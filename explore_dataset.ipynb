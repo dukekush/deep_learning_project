{
 "cells": [
  {
   "cell_type": "code",
   "execution_count": 1,
   "metadata": {},
   "outputs": [],
   "source": [
    "import torch\n",
    "from torchvision import transforms, datasets, models\n",
    "from torch.utils.data import DataLoader\n",
    "import torch.nn as nn\n",
    "import torch.optim as optim\n",
    "from helpers import train, evaluation, generate_confusion_matrix\n",
    "from helpers import plot_accuracy, plot_loss, plot_confusion_matrix\n",
    "import numpy as np"
   ]
  },
  {
   "cell_type": "code",
   "execution_count": 2,
   "metadata": {},
   "outputs": [],
   "source": [
    "DATA_PATH = './15SceneData/'\n",
    "PLOTS_PATH = './plots/'\n",
    "\n",
    "DEVICE = torch.device(\"mps\" if torch.backends.mps.is_available() else \"cpu\")"
   ]
  },
  {
   "cell_type": "code",
   "execution_count": 3,
   "metadata": {},
   "outputs": [],
   "source": [
    "# Load the dataset\n",
    "train_dataset = datasets.ImageFolder(DATA_PATH + 'train',\n",
    "                                     transform=transforms.Compose([\n",
    "                                         transforms.Resize((224, 224)),\n",
    "                                         transforms.ToTensor()\n",
    "                                     ]))\n",
    "\n",
    "val_dataset = datasets.ImageFolder(DATA_PATH + 'validation',\n",
    "                                   transform=transforms.Compose([\n",
    "                                       transforms.Resize((224, 224)),\n",
    "                                       transforms.ToTensor()\n",
    "                                   ]))"
   ]
  },
  {
   "attachments": {},
   "cell_type": "markdown",
   "metadata": {},
   "source": [
    "# Calculate mean and std for train dataset"
   ]
  },
  {
   "cell_type": "code",
   "execution_count": 4,
   "metadata": {},
   "outputs": [
    {
     "data": {
      "text/plain": [
       "(tensor([0.4559, 0.4559, 0.4559]), tensor([0.2199, 0.2199, 0.2199]))"
      ]
     },
     "execution_count": 4,
     "metadata": {},
     "output_type": "execute_result"
    }
   ],
   "source": [
    "loader = DataLoader(train_dataset, batch_size=len(train_dataset), shuffle=True)\n",
    "\n",
    "mean = 0.\n",
    "std = 0.\n",
    "for images, _ in loader:\n",
    "    batch_samples = images.size(0) # batch size (the last batch can have smaller size!)\n",
    "    images = images.view(batch_samples, images.size(1), -1)\n",
    "    mean += images.mean(2).sum(0)\n",
    "    std += images.std(2).sum(0)\n",
    "\n",
    "mean /= len(loader.dataset)\n",
    "std /= len(loader.dataset)\n",
    "\n",
    "mean, std"
   ]
  },
  {
   "attachments": {},
   "cell_type": "markdown",
   "metadata": {},
   "source": [
    "# Mean and std for val dataset"
   ]
  },
  {
   "cell_type": "code",
   "execution_count": 5,
   "metadata": {},
   "outputs": [
    {
     "data": {
      "text/plain": [
       "(tensor([0.4552, 0.4552, 0.4552]), tensor([0.2191, 0.2191, 0.2191]))"
      ]
     },
     "execution_count": 5,
     "metadata": {},
     "output_type": "execute_result"
    }
   ],
   "source": [
    "loader = DataLoader(val_dataset, batch_size=len(val_dataset), shuffle=True)\n",
    "\n",
    "mean = 0.\n",
    "std = 0.\n",
    "for images, _ in loader:\n",
    "    batch_samples = images.size(0) # batch size (the last batch can have smaller size!)\n",
    "    images = images.view(batch_samples, images.size(1), -1)\n",
    "    mean += images.mean(2).sum(0)\n",
    "    std += images.std(2).sum(0)\n",
    "\n",
    "mean /= len(loader.dataset)\n",
    "std /= len(loader.dataset)\n",
    "\n",
    "mean, std"
   ]
  },
  {
   "attachments": {},
   "cell_type": "markdown",
   "metadata": {},
   "source": [
    "# Check if all images are b-w"
   ]
  },
  {
   "cell_type": "code",
   "execution_count": 6,
   "metadata": {},
   "outputs": [],
   "source": [
    "# check if all images are black-white\n",
    "\n",
    "for i, img in enumerate(train_dataset):\n",
    "    image = img[0]\n",
    "    if torch.all(image[0] == image[1]) and torch.all(image[0] == image[2]):\n",
    "        continue\n",
    "    else:\n",
    "        print(i)\n",
    "\n",
    "# Nothing printed, so all images are black-white (same value for all channels)"
   ]
  },
  {
   "cell_type": "code",
   "execution_count": 7,
   "metadata": {},
   "outputs": [],
   "source": [
    "# check if all images are black-white\n",
    "\n",
    "for i, img in enumerate(val_dataset):\n",
    "    image = img[0]\n",
    "    if torch.all(image[0] == image[1]) and torch.all(image[0] == image[2]):\n",
    "        continue\n",
    "    else:\n",
    "        print(i)\n",
    "\n",
    "# Nothing printed, so all images are black-white (same value for all channels)"
   ]
  }
 ],
 "metadata": {
  "kernelspec": {
   "display_name": "ANN",
   "language": "python",
   "name": "python3"
  },
  "language_info": {
   "codemirror_mode": {
    "name": "ipython",
    "version": 3
   },
   "file_extension": ".py",
   "mimetype": "text/x-python",
   "name": "python",
   "nbconvert_exporter": "python",
   "pygments_lexer": "ipython3",
   "version": "3.9.15"
  },
  "orig_nbformat": 4
 },
 "nbformat": 4,
 "nbformat_minor": 2
}
